{
 "cells": [
  {
   "cell_type": "code",
   "execution_count": 1,
   "id": "e09e9205",
   "metadata": {},
   "outputs": [],
   "source": [
    "# Importing Libraries\n",
    "\n",
    "from keras import Sequential, layers\n",
    "from sklearn.model_selection import train_test_split\n",
    "from sklearn.preprocessing import LabelEncoder, MinMaxScaler\n",
    "from sklearn.metrics import accuracy_score, classification_report, confusion_matrix\n",
    "import numpy as np\n",
    "import pandas as pd\n",
    "import matplotlib.pyplot as plt\n",
    "import tensorflow as tf"
   ]
  },
  {
   "cell_type": "code",
   "execution_count": 2,
   "id": "bcf3e6b9",
   "metadata": {},
   "outputs": [],
   "source": [
    "# Loading and Selecting Columns\n",
    "\n",
    "df = (\n",
    "    pd.read_csv(\"../kidney_disease.csv\")[\n",
    "        [\"sg\", \"al\", \"sc\", \"hemo\", \"pcv\", \"wc\", \"rc\", \"htn\", \"classification\"]\n",
    "    ]\n",
    "    .dropna()\n",
    "    .copy()\n",
    ")"
   ]
  },
  {
   "cell_type": "code",
   "execution_count": 3,
   "id": "f4d70846",
   "metadata": {},
   "outputs": [],
   "source": [
    "# Encoding categorical values\n",
    "\n",
    "label_encoders = {}\n",
    "for col in df.columns:\n",
    "    if not np.issubdtype(df[col].dtype, np.number):\n",
    "        le = LabelEncoder()\n",
    "        df[col] = le.fit_transform(df[col])\n",
    "        label_encoders[col] = le  # save encoder if we need to decode later"
   ]
  },
  {
   "cell_type": "code",
   "execution_count": 4,
   "id": "32f9ea41",
   "metadata": {},
   "outputs": [],
   "source": [
    "# Split Into Features (x) and Label (y)\n",
    "\n",
    "X = df.drop(\"classification\", axis=1)\n",
    "y = df[\"classification\"]"
   ]
  },
  {
   "cell_type": "code",
   "execution_count": 5,
   "id": "6c121560",
   "metadata": {},
   "outputs": [],
   "source": [
    "# Train-Test Spliting\n",
    "\n",
    "X_train, X_test, y_train, y_test = train_test_split(\n",
    "    X, y, test_size=0.2, shuffle=True, stratify=y, random_state=42\n",
    ")"
   ]
  },
  {
   "cell_type": "code",
   "execution_count": 6,
   "id": "1afc36ab",
   "metadata": {},
   "outputs": [],
   "source": [
    "# Scale Features\n",
    "\n",
    "scaler = MinMaxScaler().fit(X_train)\n",
    "X_train = scaler.transform(X_train)\n",
    "X_test = scaler.transform(X_test)\n",
    "\n",
    "# We use Formula of MinMaxScaler"
   ]
  },
  {
   "cell_type": "code",
   "execution_count": 7,
   "id": "c114c1f5",
   "metadata": {},
   "outputs": [
    {
     "data": {
      "text/plain": [
       "'\\nInputs (8 features) → go into 256 ReLU neurons.\\neach neuron does multiplication + addition + ReLU.\\nresult: a vector of 256 numbers.\\n\\nthose 256 numbers → go into the 1 sigmoid neuron.\\nit multiplies each of the 256 values by its own weights, adds them up, plus bias.\\nthen applies sigmoid → produces a value between 0 and 1.\\n\\nWE interpret:\\n≥ 0.5 → CKD (positive class)\\n< 0.5 → Not CKD (negative class)\\n'"
      ]
     },
     "execution_count": 7,
     "metadata": {},
     "output_type": "execute_result"
    }
   ],
   "source": [
    "# Build Neural Network\n",
    "\n",
    "model = Sequential(\n",
    "    [\n",
    "        layers.Input(\n",
    "            shape=(X_train.shape[1],)\n",
    "        ),  # X_train.shape[1] → number of columns (features per patient).\n",
    "        layers.Dense(256, activation=\"relu\", kernel_initializer=\"he_normal\"),\n",
    "        layers.Dense(1, activation=\"sigmoid\"),\n",
    "    ]\n",
    ")\n",
    "\n",
    "\"\"\"\n",
    "weights: numbers that control how strongly each input affects the neuron.\n",
    "training: adjusts weights again and again until the network predicts correctly.\n",
    "initializer: decides the starting values of the weights before training.\n",
    "\"\"\"\n",
    "\n",
    "\"\"\"\n",
    "ReLU is used in the hidden layer neurons → they do multiplication + addition + ReLU (max(0, x)).\n",
    "\n",
    "Sigmoid is used in the output neuron → it also does multiplication + addition, then passes the result through the sigmoid function which makes sure that it squashes the result into the range of 0-1.\n",
    "\"\"\"\n",
    "\n",
    "\"\"\"\n",
    "Inputs (8 features) → go into 256 ReLU neurons.\n",
    "each neuron does multiplication + addition + ReLU.\n",
    "result: a vector of 256 numbers.\n",
    "\n",
    "those 256 numbers → go into the 1 sigmoid neuron.\n",
    "it multiplies each of the 256 values by its own weights, adds them up, plus bias.\n",
    "then applies sigmoid → produces a value between 0 and 1.\n",
    "\n",
    "WE interpret:\n",
    "≥ 0.5 → CKD (positive class)\n",
    "< 0.5 → Not CKD (negative class)\n",
    "\"\"\""
   ]
  },
  {
   "cell_type": "code",
   "execution_count": 8,
   "id": "c7daaa50",
   "metadata": {},
   "outputs": [
    {
     "data": {
      "text/plain": [
       "'\\nmetrics=[\"accuracy\"] it shows us how well the model is doing.\\naccuracy = percentage of correct predictions.\\n-> if out of 100 patients, 90 are predicted correctly → accuracy = 90%.\\n'"
      ]
     },
     "execution_count": 8,
     "metadata": {},
     "output_type": "execute_result"
    }
   ],
   "source": [
    "# Compile Model\n",
    "\n",
    "model.compile(loss=\"binary_crossentropy\", optimizer=\"adam\", metrics=[\"accuracy\"])\n",
    "\n",
    "\"\"\"\n",
    "compares the predicted probability (from sigmoid, e.g. 0.8) with the actual label (0 = Not CKD, 1 = CKD).\n",
    "\"\"\"\n",
    "\n",
    "\"\"\"\n",
    "after the loss results, the optimizer decides how to adjust the weights to improve next time.\n",
    "\"\"\"\n",
    "\n",
    "\"\"\"\n",
    "metrics=[\"accuracy\"] it shows us how well the model is doing.\n",
    "accuracy = percentage of correct predictions.\n",
    "-> if out of 100 patients, 90 are predicted correctly → accuracy = 90%.\n",
    "\"\"\""
   ]
  },
  {
   "cell_type": "code",
   "execution_count": 9,
   "id": "18ba4075",
   "metadata": {},
   "outputs": [],
   "source": [
    "# Training the Model\n",
    "\n",
    "es = tf.keras.callbacks.EarlyStopping(patience=10, restore_best_weights=True)\n",
    "\n",
    "history = model.fit(\n",
    "    X_train,\n",
    "    y_train,\n",
    "    validation_split=0.2,\n",
    "    epochs=200,  # number of passes through training data\n",
    "    batch_size=32,  # process 32 samples at a time\n",
    "    callbacks=[es],\n",
    "    verbose=0,  # 0 = silent, 1 = progress bar\n",
    ")\n",
    "\n",
    "# history variable stores logs of each epochs"
   ]
  },
  {
   "cell_type": "code",
   "execution_count": 10,
   "id": "2dafcaac",
   "metadata": {},
   "outputs": [],
   "source": [
    "# Save Trained Model\n",
    "\n",
    "model.save(\"ckd.keras\")"
   ]
  },
  {
   "cell_type": "code",
   "execution_count": 11,
   "id": "88f8df01",
   "metadata": {},
   "outputs": [
    {
     "data": {
      "image/png": "[encoded data removed]",
      "text/plain": [
       "<Figure size 640x480 with 1 Axes>"
      ]
     },
     "metadata": {},
     "output_type": "display_data"
    },
    {
     "data": {
      "image/png": "[encoded data removed]",
      "text/plain": [
       "<Figure size 640x480 with 1 Axes>"
      ]
     },
     "metadata": {},
     "output_type": "display_data"
    }
   ],
   "source": [
    "# Plot Training Results\n",
    "\n",
    "# If the lines goes higher it's more accurate\n",
    "\n",
    "plt.plot(history.history[\"accuracy\"], label=\"Train Accuracy\")\n",
    "plt.plot(history.history[\"val_accuracy\"], label=\"Val Accuracy\")\n",
    "plt.title(\"Model Accuracy\")\n",
    "plt.xlabel(\"Epoch\")\n",
    "plt.ylabel(\"Accuracy\")\n",
    "plt.legend()\n",
    "plt.show()\n",
    "\n",
    "# If the line goes lower there are small loss\n",
    "\n",
    "plt.plot(history.history[\"loss\"], label=\"Train Loss\")\n",
    "plt.plot(history.history[\"val_loss\"], label=\"Val Loss\")\n",
    "plt.title(\"Model Loss\")\n",
    "plt.xlabel(\"Epoch\")\n",
    "plt.ylabel(\"Loss\")\n",
    "plt.legend()\n",
    "plt.show()"
   ]
  },
  {
   "cell_type": "code",
   "execution_count": 12,
   "id": "22fb9591",
   "metadata": {},
   "outputs": [
    {
     "name": "stdout",
     "output_type": "stream",
     "text": [
      "\u001b[1m2/2\u001b[0m \u001b[32m━━━━━━━━━━━━━━━━━━━━\u001b[0m\u001b[37m\u001b[0m \u001b[1m0s\u001b[0m 18ms/step\n"
     ]
    },
    {
     "data": {
      "text/plain": [
       "\"\\nprobs >= 0.5 -> Gives us true and false value that's why we do astype(int) this convert's true and false into 0's and 1's\\n\\n.ravel() just make sure all the 0's and 1's are saved into a 1d array(flat array)\\n\""
      ]
     },
     "execution_count": 12,
     "metadata": {},
     "output_type": "execute_result"
    }
   ],
   "source": [
    "# Making Prediction on Test Data\n",
    "\n",
    "probs = model.predict(X_test)\n",
    "pred = (probs >= 0.5).astype(int).ravel()\n",
    "\n",
    "\"\"\"\n",
    "probs >= 0.5 -> Gives us true and false value that's why we do astype(int) this convert's true and false into 0's and 1's\n",
    "\n",
    ".ravel() just make sure all the 0's and 1's are saved into a 1d array(flat array)\n",
    "\"\"\""
   ]
  },
  {
   "cell_type": "code",
   "execution_count": 13,
   "id": "1831e08b",
   "metadata": {},
   "outputs": [
    {
     "name": "stdout",
     "output_type": "stream",
     "text": [
      "Original:  0, 1, 1, 0, 1, 0, 0, 0, 0, 0, 1, 0, 0, 1, 1, 0, 1, 1, 1, 0, 1, 0, 0, 1, 0, 1, 1, 1, 0, 1, 1, 1, 0, 1, 0, 0, 0, 1, 1, 1, 1, 1, 0, 0, 0, 1, 1, 1\n",
      "Predicted: 0, 1, 1, 0, 1, 0, 0, 0, 0, 0, 1, 0, 0, 1, 1, 0, 1, 1, 1, 0, 1, 0, 0, 1, 0, 1, 1, 1, 0, 1, 1, 1, 0, 1, 0, 0, 0, 1, 1, 1, 1, 1, 0, 0, 0, 1, 1, 1\n"
     ]
    }
   ],
   "source": [
    "# Printing Results\n",
    "\n",
    "print(\"Original:  {0}\".format(\", \".join(str(int(v)) for v in y_test)))\n",
    "print(\"Predicted: {0}\".format(\", \".join(str(int(v)) for v in pred)))"
   ]
  },
  {
   "cell_type": "code",
   "execution_count": 14,
   "id": "e9975793",
   "metadata": {},
   "outputs": [
    {
     "name": "stdout",
     "output_type": "stream",
     "text": [
      "Test Accuracy: 1.0\n",
      "\n",
      "Confusion Matrix:\n",
      " [[22  0]\n",
      " [ 0 26]]\n",
      "\n",
      "Classification Report:\n",
      "               precision    recall  f1-score   support\n",
      "\n",
      "           0      1.000     1.000     1.000        22\n",
      "           1      1.000     1.000     1.000        26\n",
      "\n",
      "    accuracy                          1.000        48\n",
      "   macro avg      1.000     1.000     1.000        48\n",
      "weighted avg      1.000     1.000     1.000        48\n",
      "\n"
     ]
    },
    {
     "data": {
      "text/plain": [
       "'\\nPrecision=TP/(TP+FP) -> High precision means few false positives (FP).\\nRecall=TP/(TP+FN) -> High recall means few false negatives (FN).\\n'"
      ]
     },
     "execution_count": 14,
     "metadata": {},
     "output_type": "execute_result"
    }
   ],
   "source": [
    "# Evaluation Metrics\n",
    "\n",
    "print(\"Test Accuracy:\", accuracy_score(y_test, pred))\n",
    "print(\"\\nConfusion Matrix:\\n\", confusion_matrix(y_test, pred))\n",
    "print(\"\\nClassification Report:\\n\", classification_report(y_test, pred, digits=3))\n",
    "\n",
    "\n",
    "\"\"\"\n",
    "Precision=TP/(TP+FP) -> High precision means few false positives (FP).\n",
    "Recall=TP/(TP+FN) -> High recall means few false negatives (FN).\n",
    "\"\"\""
   ]
  }
 ],
 "metadata": {
  "kernelspec": {
   "display_name": "Python 3",
   "language": "python",
   "name": "python3"
  },
  "language_info": {
   "codemirror_mode": {
    "name": "ipython",
    "version": 3
   },
   "file_extension": ".py",
   "mimetype": "text/x-python",
   "name": "python",
   "nbconvert_exporter": "python",
   "pygments_lexer": "ipython3",
   "version": "3.13.7"
  }
 },
 "nbformat": 4,
 "nbformat_minor": 5
}
